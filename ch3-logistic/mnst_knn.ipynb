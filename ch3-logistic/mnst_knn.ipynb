{
 "metadata": {
  "language_info": {
   "codemirror_mode": {
    "name": "ipython",
    "version": 3
   },
   "file_extension": ".py",
   "mimetype": "text/x-python",
   "name": "python",
   "nbconvert_exporter": "python",
   "pygments_lexer": "ipython3",
   "version": "3.8.2-final"
  },
  "orig_nbformat": 2,
  "kernelspec": {
   "name": "python38264bitb085e819d0bc4aa1a771868326757f5f",
   "display_name": "Python 3.8.2 64-bit"
  }
 },
 "nbformat": 4,
 "nbformat_minor": 2,
 "cells": [
  {
   "cell_type": "code",
   "execution_count": 3,
   "metadata": {},
   "outputs": [],
   "source": [
    "from sklearn.datasets import fetch_openml\n",
    "import numpy as np\n",
    "\n",
    "import matplotlib as mpl \n",
    "import matplotlib.pyplot as plt"
   ]
  },
  {
   "cell_type": "code",
   "execution_count": 4,
   "metadata": {},
   "outputs": [
    {
     "output_type": "execute_result",
     "data": {
      "text/plain": [
       "dict_keys(['data', 'target', 'frame', 'categories', 'feature_names', 'target_names', 'DESCR', 'details', 'url'])"
      ]
     },
     "metadata": {},
     "execution_count": 4
    }
   ],
   "source": [
    "mnist = fetch_openml('mnist_784', version=1)\n",
    "mnist.keys()"
   ]
  },
  {
   "cell_type": "code",
   "execution_count": 5,
   "metadata": {},
   "outputs": [
    {
     "output_type": "execute_result",
     "data": {
      "text/plain": [
       "15680000"
      ]
     },
     "metadata": {},
     "execution_count": 5
    }
   ],
   "source": [
    "X, y = mnist[\"data\"], mnist[\"target\"]\n",
    "#take smaller size from 60K to 20K\n",
    "X_train, X_test, y_train, y_test = X[:20000], X[20000:], y[:20000], y[20000:]\n"
   ]
  },
  {
   "cell_type": "code",
   "execution_count": 6,
   "metadata": {},
   "outputs": [
    {
     "output_type": "execute_result",
     "data": {
      "text/plain": [
       "(20000, 784)"
      ]
     },
     "metadata": {},
     "execution_count": 6
    }
   ],
   "source": [
    "X_train.shape"
   ]
  },
  {
   "cell_type": "code",
   "execution_count": 7,
   "metadata": {},
   "outputs": [
    {
     "output_type": "execute_result",
     "data": {
      "text/plain": [
       "KNeighborsClassifier(n_neighbors=3)"
      ]
     },
     "metadata": {},
     "execution_count": 7
    }
   ],
   "source": [
    "from sklearn.neighbors import KNeighborsClassifier\n",
    "neigh = KNeighborsClassifier(n_neighbors=3)\n",
    "neigh.fit(X_train, y_train)"
   ]
  },
  {
   "cell_type": "code",
   "execution_count": 17,
   "metadata": {},
   "outputs": [
    {
     "output_type": "execute_result",
     "data": {
      "text/plain": [
       "array(['0', '1', '2', '3', '4', '5', '6', '7', '8', '9'], dtype=object)"
      ]
     },
     "metadata": {},
     "execution_count": 17
    }
   ],
   "source": [
    "neigh.classes_"
   ]
  },
  {
   "cell_type": "code",
   "execution_count": 8,
   "metadata": {},
   "outputs": [
    {
     "output_type": "display_data",
     "data": {
      "text/plain": "<Figure size 432x288 with 1 Axes>",
      "image/svg+xml": "<?xml version=\"1.0\" encoding=\"utf-8\" standalone=\"no\"?>\r\n<!DOCTYPE svg PUBLIC \"-//W3C//DTD SVG 1.1//EN\"\r\n  \"http://www.w3.org/Graphics/SVG/1.1/DTD/svg11.dtd\">\r\n<!-- Created with matplotlib (https://matplotlib.org/) -->\r\n<svg height=\"248.518125pt\" version=\"1.1\" viewBox=\"0 0 251.565 248.518125\" width=\"251.565pt\" xmlns=\"http://www.w3.org/2000/svg\" xmlns:xlink=\"http://www.w3.org/1999/xlink\">\r\n <defs>\r\n  <style type=\"text/css\">\r\n*{stroke-linecap:butt;stroke-linejoin:round;}\r\n  </style>\r\n </defs>\r\n <g id=\"figure_1\">\r\n  <g id=\"patch_1\">\r\n   <path d=\"M 0 248.518125 \r\nL 251.565 248.518125 \r\nL 251.565 0 \r\nL 0 0 \r\nz\r\n\" style=\"fill:none;\"/>\r\n  </g>\r\n  <g id=\"axes_1\">\r\n   <g id=\"patch_2\">\r\n    <path d=\"M 26.925 224.64 \r\nL 244.365 224.64 \r\nL 244.365 7.2 \r\nL 26.925 7.2 \r\nz\r\n\" style=\"fill:#ffffff;\"/>\r\n   </g>\r\n   <g clip-path=\"url(#p8da2ff3a6b)\">\r\n    <image height=\"218\" id=\"imagefd005b17e1\" transform=\"scale(1 -1)translate(0 -218)\" width=\"218\" x=\"26.925\" xlink:href=\"data:image/png;base64,\r\niVBORw0KGgoAAAANSUhEUgAAANoAAADaCAYAAADAHVzbAAAABHNCSVQICAgIfAhkiAAABPZJREFUeJzt3bFLlXscx/Hn3G5QUEIOgRAREbm0KFLQng5Cf0C1tSY4JriJJaEIETREBC0OUdAatbVU4CQEbdLQomKT42nqwoX7fLt59KOHXq/1w+/xLG9+4IPHTrfb7TbAvvrroD8A/AmEBgFCgwChQYDQIEBoECA0CBAaBAgNAoQGAUKDAKFBgNAgQGgQIDQIEBoECA0ChAYBQoMAoUGA0CBAaBAgNAgQGgQIDQKEBgFCgwChQYDQIEBoECA0CBAaBAgNAoQGAUKDAKFBgNAgQGgQIDQIEBoECA0ChAYBQoMAoUGA0CBAaBAgNAgQGgQIDQKEBgFCgwChQYDQIEBoEPD3QX+A/bK4uFjuq6ur5f7u3buefn63223dLl++XJ5dWloq9wsXLpT7kSNHyp08NxoECA0ChAYBQoMAoUGA0CCg061+D33I3b9/v3Wbm5srz+7s7Oz1x/mXixcvtm5fvnwpz547d67cX758We6jo6PlTp4bDQKEBgFCgwChQYDQIEBoECA0COjr92hDQ0Ot2/fv38uzDx48KPc7d+7s6jP9H7Ozs+V+7969cr927Vq5v3jxotwHBgbKnb3nRoMAoUGA0CBAaBAgNAgQGgQIDQL6+j3at2/fWrfJycny7NevX8t9eXm53G/dulXulY2NjXI/ffr0rp/dNE3z/v37cr969WpPz+f3udEgQGgQIDQIEBoECA0ChAYBQoOAvv63TdXfo/3q3zJ9+PCh3EdGRnb1mX7a2tpq3R49etTTs0+ePFnup06d6un57D03GgQIDQKEBgFCgwChQYDQIKCv/0zmMLty5Urr9unTp/LsmTNnyv3p06fl/quvoyPPjQYBQoMAoUGA0CBAaBAgNAgQGgR4j7ZPOp3Ors++fv263K9fv77rZ3Mw3GgQIDQIEBoECA0ChAYBQoMAoUFAX3/d3GE2MzPTui0sLJRnV1ZWyn18fLzcjx07Vu7kudEgQGgQIDQIEBoECA0ChAYBQoMA79H2yezsbOt29OjR8uzz58/L/c2bN+X+qz8xnJiYaN28g9sfbjQIEBoECA0ChAYBQoMAoUGA0CDA9zr2oenp6XJ/+PBhuU9NTbVu8/Pz5dkTJ06UO//NjQYBQoMAoUGA0CBAaBAgNAjw6/0+tLm5We7VV901TdM8efKkdRscHCzPnj9/vtzv3r1b7pcuXWrdjh8/Xp49e/ZsuR9mbjQIEBoECA0ChAYBQoMAoUGA0CDAe7Q/0O3bt1u3tbW18uzHjx/3+uP8Y2BgoNxv3rxZ7mNjY+V+48aNct/Pr9pzo0GA0CBAaBAgNAgQGgQIDQKEBgHeo/Fb3r59W+6vXr0q95WVldZte3u7PNvpdMq9V8PDw63b58+fe3q2Gw0ChAYBQoMAoUGA0CBAaBAgNAjwHo2o9fX11m1nZ6c8W72Da5qmefz48a4+00+Tk5Ot27Nnz3p6thsNAoQGAUKDAKFBgNAgQGgQIDQI8B4NAtxoECA0CBAaBAgNAoQGAUKDAKFBgNAgQGgQIDQIEBoECA0ChAYBQoMAoUGA0CBAaBAgNAgQGgQIDQKEBgFCgwChQYDQIEBoECA0CBAaBAgNAoQGAUKDAKFBgNAgQGgQIDQIEBoECA0ChAYBQoMAoUGA0CBAaBAgNAgQGgQIDQKEBgFCgwChQYDQIEBoECA0CBAaBAgNAoQGAT8ApXO3Z6o/BSUAAAAASUVORK5CYII=\" y=\"-6.64\"/>\r\n   </g>\r\n   <g id=\"matplotlib.axis_1\">\r\n    <g id=\"xtick_1\">\r\n     <g id=\"line2d_1\">\r\n      <defs>\r\n       <path d=\"M 0 0 \r\nL 0 3.5 \r\n\" id=\"m4ea0d90a2b\" style=\"stroke:#000000;stroke-width:0.8;\"/>\r\n      </defs>\r\n      <g>\r\n       <use style=\"stroke:#000000;stroke-width:0.8;\" x=\"30.807857\" xlink:href=\"#m4ea0d90a2b\" y=\"224.64\"/>\r\n      </g>\r\n     </g>\r\n     <g id=\"text_1\">\r\n      <!-- 0 -->\r\n      <defs>\r\n       <path d=\"M 31.78125 66.40625 \r\nQ 24.171875 66.40625 20.328125 58.90625 \r\nQ 16.5 51.421875 16.5 36.375 \r\nQ 16.5 21.390625 20.328125 13.890625 \r\nQ 24.171875 6.390625 31.78125 6.390625 \r\nQ 39.453125 6.390625 43.28125 13.890625 \r\nQ 47.125 21.390625 47.125 36.375 \r\nQ 47.125 51.421875 43.28125 58.90625 \r\nQ 39.453125 66.40625 31.78125 66.40625 \r\nz\r\nM 31.78125 74.21875 \r\nQ 44.046875 74.21875 50.515625 64.515625 \r\nQ 56.984375 54.828125 56.984375 36.375 \r\nQ 56.984375 17.96875 50.515625 8.265625 \r\nQ 44.046875 -1.421875 31.78125 -1.421875 \r\nQ 19.53125 -1.421875 13.0625 8.265625 \r\nQ 6.59375 17.96875 6.59375 36.375 \r\nQ 6.59375 54.828125 13.0625 64.515625 \r\nQ 19.53125 74.21875 31.78125 74.21875 \r\nz\r\n\" id=\"DejaVuSans-48\"/>\r\n      </defs>\r\n      <g transform=\"translate(27.626607 239.238437)scale(0.1 -0.1)\">\r\n       <use xlink:href=\"#DejaVuSans-48\"/>\r\n      </g>\r\n     </g>\r\n    </g>\r\n    <g id=\"xtick_2\">\r\n     <g id=\"line2d_2\">\r\n      <g>\r\n       <use style=\"stroke:#000000;stroke-width:0.8;\" x=\"69.636429\" xlink:href=\"#m4ea0d90a2b\" y=\"224.64\"/>\r\n      </g>\r\n     </g>\r\n     <g id=\"text_2\">\r\n      <!-- 5 -->\r\n      <defs>\r\n       <path d=\"M 10.796875 72.90625 \r\nL 49.515625 72.90625 \r\nL 49.515625 64.59375 \r\nL 19.828125 64.59375 \r\nL 19.828125 46.734375 \r\nQ 21.96875 47.46875 24.109375 47.828125 \r\nQ 26.265625 48.1875 28.421875 48.1875 \r\nQ 40.625 48.1875 47.75 41.5 \r\nQ 54.890625 34.8125 54.890625 23.390625 \r\nQ 54.890625 11.625 47.5625 5.09375 \r\nQ 40.234375 -1.421875 26.90625 -1.421875 \r\nQ 22.3125 -1.421875 17.546875 -0.640625 \r\nQ 12.796875 0.140625 7.71875 1.703125 \r\nL 7.71875 11.625 \r\nQ 12.109375 9.234375 16.796875 8.0625 \r\nQ 21.484375 6.890625 26.703125 6.890625 \r\nQ 35.15625 6.890625 40.078125 11.328125 \r\nQ 45.015625 15.765625 45.015625 23.390625 \r\nQ 45.015625 31 40.078125 35.4375 \r\nQ 35.15625 39.890625 26.703125 39.890625 \r\nQ 22.75 39.890625 18.8125 39.015625 \r\nQ 14.890625 38.140625 10.796875 36.28125 \r\nz\r\n\" id=\"DejaVuSans-53\"/>\r\n      </defs>\r\n      <g transform=\"translate(66.455179 239.238437)scale(0.1 -0.1)\">\r\n       <use xlink:href=\"#DejaVuSans-53\"/>\r\n      </g>\r\n     </g>\r\n    </g>\r\n    <g id=\"xtick_3\">\r\n     <g id=\"line2d_3\">\r\n      <g>\r\n       <use style=\"stroke:#000000;stroke-width:0.8;\" x=\"108.465\" xlink:href=\"#m4ea0d90a2b\" y=\"224.64\"/>\r\n      </g>\r\n     </g>\r\n     <g id=\"text_3\">\r\n      <!-- 10 -->\r\n      <defs>\r\n       <path d=\"M 12.40625 8.296875 \r\nL 28.515625 8.296875 \r\nL 28.515625 63.921875 \r\nL 10.984375 60.40625 \r\nL 10.984375 69.390625 \r\nL 28.421875 72.90625 \r\nL 38.28125 72.90625 \r\nL 38.28125 8.296875 \r\nL 54.390625 8.296875 \r\nL 54.390625 0 \r\nL 12.40625 0 \r\nz\r\n\" id=\"DejaVuSans-49\"/>\r\n      </defs>\r\n      <g transform=\"translate(102.1025 239.238437)scale(0.1 -0.1)\">\r\n       <use xlink:href=\"#DejaVuSans-49\"/>\r\n       <use x=\"63.623047\" xlink:href=\"#DejaVuSans-48\"/>\r\n      </g>\r\n     </g>\r\n    </g>\r\n    <g id=\"xtick_4\">\r\n     <g id=\"line2d_4\">\r\n      <g>\r\n       <use style=\"stroke:#000000;stroke-width:0.8;\" x=\"147.293571\" xlink:href=\"#m4ea0d90a2b\" y=\"224.64\"/>\r\n      </g>\r\n     </g>\r\n     <g id=\"text_4\">\r\n      <!-- 15 -->\r\n      <g transform=\"translate(140.931071 239.238437)scale(0.1 -0.1)\">\r\n       <use xlink:href=\"#DejaVuSans-49\"/>\r\n       <use x=\"63.623047\" xlink:href=\"#DejaVuSans-53\"/>\r\n      </g>\r\n     </g>\r\n    </g>\r\n    <g id=\"xtick_5\">\r\n     <g id=\"line2d_5\">\r\n      <g>\r\n       <use style=\"stroke:#000000;stroke-width:0.8;\" x=\"186.122143\" xlink:href=\"#m4ea0d90a2b\" y=\"224.64\"/>\r\n      </g>\r\n     </g>\r\n     <g id=\"text_5\">\r\n      <!-- 20 -->\r\n      <defs>\r\n       <path d=\"M 19.1875 8.296875 \r\nL 53.609375 8.296875 \r\nL 53.609375 0 \r\nL 7.328125 0 \r\nL 7.328125 8.296875 \r\nQ 12.9375 14.109375 22.625 23.890625 \r\nQ 32.328125 33.6875 34.8125 36.53125 \r\nQ 39.546875 41.84375 41.421875 45.53125 \r\nQ 43.3125 49.21875 43.3125 52.78125 \r\nQ 43.3125 58.59375 39.234375 62.25 \r\nQ 35.15625 65.921875 28.609375 65.921875 \r\nQ 23.96875 65.921875 18.8125 64.3125 \r\nQ 13.671875 62.703125 7.8125 59.421875 \r\nL 7.8125 69.390625 \r\nQ 13.765625 71.78125 18.9375 73 \r\nQ 24.125 74.21875 28.421875 74.21875 \r\nQ 39.75 74.21875 46.484375 68.546875 \r\nQ 53.21875 62.890625 53.21875 53.421875 \r\nQ 53.21875 48.921875 51.53125 44.890625 \r\nQ 49.859375 40.875 45.40625 35.40625 \r\nQ 44.1875 33.984375 37.640625 27.21875 \r\nQ 31.109375 20.453125 19.1875 8.296875 \r\nz\r\n\" id=\"DejaVuSans-50\"/>\r\n      </defs>\r\n      <g transform=\"translate(179.759643 239.238437)scale(0.1 -0.1)\">\r\n       <use xlink:href=\"#DejaVuSans-50\"/>\r\n       <use x=\"63.623047\" xlink:href=\"#DejaVuSans-48\"/>\r\n      </g>\r\n     </g>\r\n    </g>\r\n    <g id=\"xtick_6\">\r\n     <g id=\"line2d_6\">\r\n      <g>\r\n       <use style=\"stroke:#000000;stroke-width:0.8;\" x=\"224.950714\" xlink:href=\"#m4ea0d90a2b\" y=\"224.64\"/>\r\n      </g>\r\n     </g>\r\n     <g id=\"text_6\">\r\n      <!-- 25 -->\r\n      <g transform=\"translate(218.588214 239.238437)scale(0.1 -0.1)\">\r\n       <use xlink:href=\"#DejaVuSans-50\"/>\r\n       <use x=\"63.623047\" xlink:href=\"#DejaVuSans-53\"/>\r\n      </g>\r\n     </g>\r\n    </g>\r\n   </g>\r\n   <g id=\"matplotlib.axis_2\">\r\n    <g id=\"ytick_1\">\r\n     <g id=\"line2d_7\">\r\n      <defs>\r\n       <path d=\"M 0 0 \r\nL -3.5 0 \r\n\" id=\"ma58da88b34\" style=\"stroke:#000000;stroke-width:0.8;\"/>\r\n      </defs>\r\n      <g>\r\n       <use style=\"stroke:#000000;stroke-width:0.8;\" x=\"26.925\" xlink:href=\"#ma58da88b34\" y=\"11.082857\"/>\r\n      </g>\r\n     </g>\r\n     <g id=\"text_7\">\r\n      <!-- 0 -->\r\n      <g transform=\"translate(13.5625 14.882076)scale(0.1 -0.1)\">\r\n       <use xlink:href=\"#DejaVuSans-48\"/>\r\n      </g>\r\n     </g>\r\n    </g>\r\n    <g id=\"ytick_2\">\r\n     <g id=\"line2d_8\">\r\n      <g>\r\n       <use style=\"stroke:#000000;stroke-width:0.8;\" x=\"26.925\" xlink:href=\"#ma58da88b34\" y=\"49.911429\"/>\r\n      </g>\r\n     </g>\r\n     <g id=\"text_8\">\r\n      <!-- 5 -->\r\n      <g transform=\"translate(13.5625 53.710647)scale(0.1 -0.1)\">\r\n       <use xlink:href=\"#DejaVuSans-53\"/>\r\n      </g>\r\n     </g>\r\n    </g>\r\n    <g id=\"ytick_3\">\r\n     <g id=\"line2d_9\">\r\n      <g>\r\n       <use style=\"stroke:#000000;stroke-width:0.8;\" x=\"26.925\" xlink:href=\"#ma58da88b34\" y=\"88.74\"/>\r\n      </g>\r\n     </g>\r\n     <g id=\"text_9\">\r\n      <!-- 10 -->\r\n      <g transform=\"translate(7.2 92.539219)scale(0.1 -0.1)\">\r\n       <use xlink:href=\"#DejaVuSans-49\"/>\r\n       <use x=\"63.623047\" xlink:href=\"#DejaVuSans-48\"/>\r\n      </g>\r\n     </g>\r\n    </g>\r\n    <g id=\"ytick_4\">\r\n     <g id=\"line2d_10\">\r\n      <g>\r\n       <use style=\"stroke:#000000;stroke-width:0.8;\" x=\"26.925\" xlink:href=\"#ma58da88b34\" y=\"127.568571\"/>\r\n      </g>\r\n     </g>\r\n     <g id=\"text_10\">\r\n      <!-- 15 -->\r\n      <g transform=\"translate(7.2 131.36779)scale(0.1 -0.1)\">\r\n       <use xlink:href=\"#DejaVuSans-49\"/>\r\n       <use x=\"63.623047\" xlink:href=\"#DejaVuSans-53\"/>\r\n      </g>\r\n     </g>\r\n    </g>\r\n    <g id=\"ytick_5\">\r\n     <g id=\"line2d_11\">\r\n      <g>\r\n       <use style=\"stroke:#000000;stroke-width:0.8;\" x=\"26.925\" xlink:href=\"#ma58da88b34\" y=\"166.397143\"/>\r\n      </g>\r\n     </g>\r\n     <g id=\"text_11\">\r\n      <!-- 20 -->\r\n      <g transform=\"translate(7.2 170.196362)scale(0.1 -0.1)\">\r\n       <use xlink:href=\"#DejaVuSans-50\"/>\r\n       <use x=\"63.623047\" xlink:href=\"#DejaVuSans-48\"/>\r\n      </g>\r\n     </g>\r\n    </g>\r\n    <g id=\"ytick_6\">\r\n     <g id=\"line2d_12\">\r\n      <g>\r\n       <use style=\"stroke:#000000;stroke-width:0.8;\" x=\"26.925\" xlink:href=\"#ma58da88b34\" y=\"205.225714\"/>\r\n      </g>\r\n     </g>\r\n     <g id=\"text_12\">\r\n      <!-- 25 -->\r\n      <g transform=\"translate(7.2 209.024933)scale(0.1 -0.1)\">\r\n       <use xlink:href=\"#DejaVuSans-50\"/>\r\n       <use x=\"63.623047\" xlink:href=\"#DejaVuSans-53\"/>\r\n      </g>\r\n     </g>\r\n    </g>\r\n   </g>\r\n   <g id=\"patch_3\">\r\n    <path d=\"M 26.925 224.64 \r\nL 26.925 7.2 \r\n\" style=\"fill:none;stroke:#000000;stroke-linecap:square;stroke-linejoin:miter;stroke-width:0.8;\"/>\r\n   </g>\r\n   <g id=\"patch_4\">\r\n    <path d=\"M 244.365 224.64 \r\nL 244.365 7.2 \r\n\" style=\"fill:none;stroke:#000000;stroke-linecap:square;stroke-linejoin:miter;stroke-width:0.8;\"/>\r\n   </g>\r\n   <g id=\"patch_5\">\r\n    <path d=\"M 26.925 224.64 \r\nL 244.365 224.64 \r\n\" style=\"fill:none;stroke:#000000;stroke-linecap:square;stroke-linejoin:miter;stroke-width:0.8;\"/>\r\n   </g>\r\n   <g id=\"patch_6\">\r\n    <path d=\"M 26.925 7.2 \r\nL 244.365 7.2 \r\n\" style=\"fill:none;stroke:#000000;stroke-linecap:square;stroke-linejoin:miter;stroke-width:0.8;\"/>\r\n   </g>\r\n  </g>\r\n </g>\r\n <defs>\r\n  <clipPath id=\"p8da2ff3a6b\">\r\n   <rect height=\"217.44\" width=\"217.44\" x=\"26.925\" y=\"7.2\"/>\r\n  </clipPath>\r\n </defs>\r\n</svg>\r\n",
      "image/png": "[encoded data removed]"
     },
     "metadata": {
      "needs_background": "light"
     }
    }
   ],
   "source": [
    "some_digit = X[11]  # y[0] is predicted as 3 use 11\n",
    "some_digit_image = some_digit.reshape(28, 28)\n",
    "plt.imshow(some_digit_image, cmap = mpl.cm.binary, interpolation=\"nearest\") \n",
    "plt.axis(\"on\")\n",
    "plt.show()"
   ]
  },
  {
   "cell_type": "code",
   "execution_count": 9,
   "metadata": {},
   "outputs": [
    {
     "output_type": "execute_result",
     "data": {
      "text/plain": [
       "array(['5'], dtype=object)"
      ]
     },
     "metadata": {},
     "execution_count": 9
    }
   ],
   "source": [
    "neigh.predict([some_digit]) #basic test"
   ]
  },
  {
   "cell_type": "code",
   "execution_count": 18,
   "metadata": {},
   "outputs": [
    {
     "output_type": "execute_result",
     "data": {
      "text/plain": [
       "array([[0., 0., 0., 0., 0., 1., 0., 0., 0., 0.]])"
      ]
     },
     "metadata": {},
     "execution_count": 18
    }
   ],
   "source": [
    "neigh.predict_proba([some_digit])"
   ]
  },
  {
   "cell_type": "code",
   "execution_count": 10,
   "metadata": {},
   "outputs": [],
   "source": [
    "from sklearn.model_selection import cross_val_predict\n",
    "#calculate confusion matrix using sklrearn cross val predict\n",
    "y_train_pred = cross_val_predict(neigh, X_train, y_train, cv=3)\n"
   ]
  },
  {
   "cell_type": "code",
   "execution_count": 11,
   "metadata": {},
   "outputs": [
    {
     "output_type": "execute_result",
     "data": {
      "text/plain": [
       "array([[1983,    1,    0,    0,    0,    2,    6,    2,    0,    0],\n",
       "       [   0, 2272,    1,    1,    2,    0,    0,    3,    1,    1],\n",
       "       [  24,   42, 1811,    7,    1,    2,    1,   31,    8,    2],\n",
       "       [   7,   15,   27, 1927,    1,   40,    4,   18,   22,   15],\n",
       "       [   2,   32,    1,    1, 1831,    0,   10,    3,    0,   65],\n",
       "       [   9,   12,    2,   37,    8, 1662,   24,    2,    3,   16],\n",
       "       [  16,    8,    2,    0,    1,   11, 1933,    0,    0,    0],\n",
       "       [   1,   29,    5,    2,   14,    1,    0, 2011,    0,   30],\n",
       "       [  16,   40,   21,   49,   20,   37,   12,   10, 1681,   36],\n",
       "       [  12,    8,    3,   20,   42,    0,    2,   24,    3, 1900]],\n",
       "      dtype=int64)"
      ]
     },
     "metadata": {},
     "execution_count": 11
    }
   ],
   "source": [
    "from sklearn.metrics import confusion_matrix\n",
    "confusion_matrix(y_train, y_train_pred)"
   ]
  },
  {
   "cell_type": "code",
   "execution_count": 15,
   "metadata": {},
   "outputs": [
    {
     "output_type": "execute_result",
     "data": {
      "text/plain": [
       "array([0.95545223, 0.94765262, 0.94854485])"
      ]
     },
     "metadata": {},
     "execution_count": 15
    }
   ],
   "source": [
    "from sklearn.model_selection import cross_val_score\n",
    "cross_val_score(neigh, X_train, y_train, cv=3, scoring=\"accuracy\")"
   ]
  },
  {
   "cell_type": "code",
   "execution_count": 27,
   "metadata": {},
   "outputs": [
    {
     "output_type": "stream",
     "name": "stdout",
     "text": [
      "0.95055\n"
     ]
    },
    {
     "output_type": "execute_result",
     "data": {
      "text/plain": [
       "0.9511308143917792"
      ]
     },
     "metadata": {},
     "execution_count": 27
    }
   ],
   "source": [
    "from sklearn.metrics import precision_score, recall_score\n",
    "#from sklearn.model_selection import cross_val_score\n",
    "print(recall_score(y_train, y_train_pred, average='weighted'))\n",
    "precision_score(y_train, y_train_pred, average='weighted')"
   ]
  },
  {
   "cell_type": "code",
   "execution_count": 32,
   "metadata": {
    "tags": [
     "outputPrepend"
    ]
   },
   "outputs": [
    {
     "output_type": "stream",
     "name": "stdout",
     "text": [
      "5, weights=uniform, score=0.952, total= 2.1min\n",
      "[CV] algorithm=auto, n_neighbors=5, weights=uniform ..................\n",
      "[CV]  algorithm=auto, n_neighbors=5, weights=uniform, score=0.954, total= 2.0min\n",
      "[CV] algorithm=auto, n_neighbors=5, weights=uniform ..................\n",
      "[CV]  algorithm=auto, n_neighbors=5, weights=uniform, score=0.949, total= 2.0min\n",
      "[CV] algorithm=auto, n_neighbors=5, weights=uniform ..................\n",
      "[CV]  algorithm=auto, n_neighbors=5, weights=uniform, score=0.957, total= 2.0min\n",
      "[CV] algorithm=auto, n_neighbors=5, weights=distance .................\n",
      "[CV]  algorithm=auto, n_neighbors=5, weights=distance, score=0.960, total= 1.9min\n",
      "[CV] algorithm=auto, n_neighbors=5, weights=distance .................\n",
      "[CV]  algorithm=auto, n_neighbors=5, weights=distance, score=0.951, total= 1.9min\n",
      "[CV] algorithm=auto, n_neighbors=5, weights=distance .................\n",
      "[CV]  algorithm=auto, n_neighbors=5, weights=distance, score=0.954, total= 1.9min\n",
      "[CV] algorithm=auto, n_neighbors=5, weights=distance .................\n",
      "[CV]  algorithm=auto, n_neighbors=5, weights=distance, score=0.952, total= 2.0min\n",
      "[CV] algorithm=auto, n_neighbors=5, weights=distance .................\n",
      "[CV]  algorithm=auto, n_neighbors=5, weights=distance, score=0.957, total= 2.0min\n",
      "[CV] algorithm=ball_tree, n_neighbors=2, weights=uniform .............\n",
      "[CV]  algorithm=ball_tree, n_neighbors=2, weights=uniform, score=0.949, total= 1.4min\n",
      "[CV] algorithm=ball_tree, n_neighbors=2, weights=uniform .............\n",
      "[CV]  algorithm=ball_tree, n_neighbors=2, weights=uniform, score=0.947, total= 1.4min\n",
      "[CV] algorithm=ball_tree, n_neighbors=2, weights=uniform .............\n",
      "[CV]  algorithm=ball_tree, n_neighbors=2, weights=uniform, score=0.944, total= 1.4min\n",
      "[CV] algorithm=ball_tree, n_neighbors=2, weights=uniform .............\n",
      "[CV]  algorithm=ball_tree, n_neighbors=2, weights=uniform, score=0.938, total= 1.4min\n",
      "[CV] algorithm=ball_tree, n_neighbors=2, weights=uniform .............\n",
      "[CV]  algorithm=ball_tree, n_neighbors=2, weights=uniform, score=0.949, total= 1.3min\n",
      "[CV] algorithm=ball_tree, n_neighbors=2, weights=distance ............\n",
      "[CV]  algorithm=ball_tree, n_neighbors=2, weights=distance, score=0.959, total= 1.4min\n",
      "[CV] algorithm=ball_tree, n_neighbors=2, weights=distance ............\n",
      "[CV]  algorithm=ball_tree, n_neighbors=2, weights=distance, score=0.948, total= 1.3min\n",
      "[CV] algorithm=ball_tree, n_neighbors=2, weights=distance ............\n",
      "[CV]  algorithm=ball_tree, n_neighbors=2, weights=distance, score=0.953, total= 1.4min\n",
      "[CV] algorithm=ball_tree, n_neighbors=2, weights=distance ............\n",
      "[CV]  algorithm=ball_tree, n_neighbors=2, weights=distance, score=0.953, total= 1.4min\n",
      "[CV] algorithm=ball_tree, n_neighbors=2, weights=distance ............\n",
      "[CV]  algorithm=ball_tree, n_neighbors=2, weights=distance, score=0.956, total= 1.4min\n",
      "[CV] algorithm=ball_tree, n_neighbors=3, weights=uniform .............\n",
      "[CV]  algorithm=ball_tree, n_neighbors=3, weights=uniform, score=0.960, total= 1.4min\n",
      "[CV] algorithm=ball_tree, n_neighbors=3, weights=uniform .............\n",
      "[CV]  algorithm=ball_tree, n_neighbors=3, weights=uniform, score=0.948, total= 1.4min\n",
      "[CV] algorithm=ball_tree, n_neighbors=3, weights=uniform .............\n",
      "[CV]  algorithm=ball_tree, n_neighbors=3, weights=uniform, score=0.953, total= 1.4min\n",
      "[CV] algorithm=ball_tree, n_neighbors=3, weights=uniform .............\n",
      "[CV]  algorithm=ball_tree, n_neighbors=3, weights=uniform, score=0.949, total= 1.4min\n",
      "[CV] algorithm=ball_tree, n_neighbors=3, weights=uniform .............\n",
      "[CV]  algorithm=ball_tree, n_neighbors=3, weights=uniform, score=0.955, total= 1.4min\n",
      "[CV] algorithm=ball_tree, n_neighbors=3, weights=distance ............\n",
      "[CV]  algorithm=ball_tree, n_neighbors=3, weights=distance, score=0.963, total= 1.4min\n",
      "[CV] algorithm=ball_tree, n_neighbors=3, weights=distance ............\n",
      "[CV]  algorithm=ball_tree, n_neighbors=3, weights=distance, score=0.948, total= 1.4min\n",
      "[CV] algorithm=ball_tree, n_neighbors=3, weights=distance ............\n",
      "[CV]  algorithm=ball_tree, n_neighbors=3, weights=distance, score=0.955, total= 1.4min\n",
      "[CV] algorithm=ball_tree, n_neighbors=3, weights=distance ............\n",
      "[CV]  algorithm=ball_tree, n_neighbors=3, weights=distance, score=0.951, total= 1.4min\n",
      "[CV] algorithm=ball_tree, n_neighbors=3, weights=distance ............\n",
      "[CV]  algorithm=ball_tree, n_neighbors=3, weights=distance, score=0.960, total= 1.4min\n",
      "[CV] algorithm=ball_tree, n_neighbors=4, weights=uniform .............\n",
      "[CV]  algorithm=ball_tree, n_neighbors=4, weights=uniform, score=0.956, total= 1.4min\n",
      "[CV] algorithm=ball_tree, n_neighbors=4, weights=uniform .............\n",
      "[CV]  algorithm=ball_tree, n_neighbors=4, weights=uniform, score=0.950, total= 1.4min\n",
      "[CV] algorithm=ball_tree, n_neighbors=4, weights=uniform .............\n",
      "[CV]  algorithm=ball_tree, n_neighbors=4, weights=uniform, score=0.952, total= 1.3min\n",
      "[CV] algorithm=ball_tree, n_neighbors=4, weights=uniform .............\n",
      "[CV]  algorithm=ball_tree, n_neighbors=4, weights=uniform, score=0.947, total= 1.4min\n",
      "[CV] algorithm=ball_tree, n_neighbors=4, weights=uniform .............\n",
      "[CV]  algorithm=ball_tree, n_neighbors=4, weights=uniform, score=0.955, total= 1.5min\n",
      "[CV] algorithm=ball_tree, n_neighbors=4, weights=distance ............\n",
      "[CV]  algorithm=ball_tree, n_neighbors=4, weights=distance, score=0.964, total= 1.4min\n",
      "[CV] algorithm=ball_tree, n_neighbors=4, weights=distance ............\n",
      "[CV]  algorithm=ball_tree, n_neighbors=4, weights=distance, score=0.951, total= 1.4min\n",
      "[CV] algorithm=ball_tree, n_neighbors=4, weights=distance ............\n",
      "[CV]  algorithm=ball_tree, n_neighbors=4, weights=distance, score=0.956, total= 1.4min\n",
      "[CV] algorithm=ball_tree, n_neighbors=4, weights=distance ............\n",
      "[CV]  algorithm=ball_tree, n_neighbors=4, weights=distance, score=0.954, total= 1.4min\n",
      "[CV] algorithm=ball_tree, n_neighbors=4, weights=distance ............\n",
      "[CV]  algorithm=ball_tree, n_neighbors=4, weights=distance, score=0.959, total= 1.4min\n",
      "[CV] algorithm=ball_tree, n_neighbors=5, weights=uniform .............\n",
      "[CV]  algorithm=ball_tree, n_neighbors=5, weights=uniform, score=0.956, total= 1.4min\n",
      "[CV] algorithm=ball_tree, n_neighbors=5, weights=uniform .............\n",
      "[CV]  algorithm=ball_tree, n_neighbors=5, weights=uniform, score=0.952, total= 1.4min\n",
      "[CV] algorithm=ball_tree, n_neighbors=5, weights=uniform .............\n",
      "[CV]  algorithm=ball_tree, n_neighbors=5, weights=uniform, score=0.954, total= 1.4min\n",
      "[CV] algorithm=ball_tree, n_neighbors=5, weights=uniform .............\n",
      "[CV]  algorithm=ball_tree, n_neighbors=5, weights=uniform, score=0.949, total= 1.4min\n",
      "[CV] algorithm=ball_tree, n_neighbors=5, weights=uniform .............\n",
      "[CV]  algorithm=ball_tree, n_neighbors=5, weights=uniform, score=0.957, total= 1.4min\n",
      "[CV] algorithm=ball_tree, n_neighbors=5, weights=distance ............\n",
      "[CV]  algorithm=ball_tree, n_neighbors=5, weights=distance, score=0.960, total= 1.4min\n",
      "[CV] algorithm=ball_tree, n_neighbors=5, weights=distance ............\n",
      "[CV]  algorithm=ball_tree, n_neighbors=5, weights=distance, score=0.951, total= 1.4min\n",
      "[CV] algorithm=ball_tree, n_neighbors=5, weights=distance ............\n",
      "[CV]  algorithm=ball_tree, n_neighbors=5, weights=distance, score=0.954, total= 1.4min\n",
      "[CV] algorithm=ball_tree, n_neighbors=5, weights=distance ............\n",
      "[CV]  algorithm=ball_tree, n_neighbors=5, weights=distance, score=0.952, total= 1.4min\n",
      "[CV] algorithm=ball_tree, n_neighbors=5, weights=distance ............\n",
      "[CV]  algorithm=ball_tree, n_neighbors=5, weights=distance, score=0.957, total= 1.4min\n",
      "[CV] algorithm=kd_tree, n_neighbors=2, weights=uniform ...............\n",
      "[CV]  algorithm=kd_tree, n_neighbors=2, weights=uniform, score=0.949, total= 2.1min\n",
      "[CV] algorithm=kd_tree, n_neighbors=2, weights=uniform ...............\n",
      "[CV]  algorithm=kd_tree, n_neighbors=2, weights=uniform, score=0.947, total= 2.0min\n",
      "[CV] algorithm=kd_tree, n_neighbors=2, weights=uniform ...............\n",
      "[CV]  algorithm=kd_tree, n_neighbors=2, weights=uniform, score=0.944, total= 2.0min\n",
      "[CV] algorithm=kd_tree, n_neighbors=2, weights=uniform ...............\n",
      "[CV]  algorithm=kd_tree, n_neighbors=2, weights=uniform, score=0.938, total= 2.0min\n",
      "[CV] algorithm=kd_tree, n_neighbors=2, weights=uniform ...............\n",
      "[CV]  algorithm=kd_tree, n_neighbors=2, weights=uniform, score=0.949, total= 1.9min\n",
      "[CV] algorithm=kd_tree, n_neighbors=2, weights=distance ..............\n",
      "[CV]  algorithm=kd_tree, n_neighbors=2, weights=distance, score=0.959, total= 1.9min\n",
      "[CV] algorithm=kd_tree, n_neighbors=2, weights=distance ..............\n",
      "[CV]  algorithm=kd_tree, n_neighbors=2, weights=distance, score=0.948, total= 1.9min\n",
      "[CV] algorithm=kd_tree, n_neighbors=2, weights=distance ..............\n",
      "[CV]  algorithm=kd_tree, n_neighbors=2, weights=distance, score=0.953, total= 1.9min\n",
      "[CV] algorithm=kd_tree, n_neighbors=2, weights=distance ..............\n",
      "[CV]  algorithm=kd_tree, n_neighbors=2, weights=distance, score=0.953, total= 2.3min\n",
      "[CV] algorithm=kd_tree, n_neighbors=2, weights=distance ..............\n",
      "[CV]  algorithm=kd_tree, n_neighbors=2, weights=distance, score=0.956, total= 2.0min\n",
      "[CV] algorithm=kd_tree, n_neighbors=3, weights=uniform ...............\n",
      "[CV]  algorithm=kd_tree, n_neighbors=3, weights=uniform, score=0.960, total= 2.0min\n",
      "[CV] algorithm=kd_tree, n_neighbors=3, weights=uniform ...............\n",
      "[CV]  algorithm=kd_tree, n_neighbors=3, weights=uniform, score=0.948, total= 2.0min\n",
      "[CV] algorithm=kd_tree, n_neighbors=3, weights=uniform ...............\n",
      "[CV]  algorithm=kd_tree, n_neighbors=3, weights=uniform, score=0.953, total=442.0min\n",
      "[CV] algorithm=kd_tree, n_neighbors=3, weights=uniform ...............\n",
      "[CV]  algorithm=kd_tree, n_neighbors=3, weights=uniform, score=0.949, total= 3.8min\n",
      "[CV] algorithm=kd_tree, n_neighbors=3, weights=uniform ...............\n",
      "[CV]  algorithm=kd_tree, n_neighbors=3, weights=uniform, score=0.955, total= 3.8min\n",
      "[CV] algorithm=kd_tree, n_neighbors=3, weights=distance ..............\n",
      "[CV]  algorithm=kd_tree, n_neighbors=3, weights=distance, score=0.963, total= 3.8min\n",
      "[CV] algorithm=kd_tree, n_neighbors=3, weights=distance ..............\n",
      "[CV]  algorithm=kd_tree, n_neighbors=3, weights=distance, score=0.948, total= 3.6min\n",
      "[CV] algorithm=kd_tree, n_neighbors=3, weights=distance ..............\n",
      "[CV]  algorithm=kd_tree, n_neighbors=3, weights=distance, score=0.955, total= 3.6min\n",
      "[CV] algorithm=kd_tree, n_neighbors=3, weights=distance ..............\n",
      "[CV]  algorithm=kd_tree, n_neighbors=3, weights=distance, score=0.951, total= 3.5min\n",
      "[CV] algorithm=kd_tree, n_neighbors=3, weights=distance ..............\n",
      "[CV]  algorithm=kd_tree, n_neighbors=3, weights=distance, score=0.960, total= 3.4min\n",
      "[CV] algorithm=kd_tree, n_neighbors=4, weights=uniform ...............\n",
      "[CV]  algorithm=kd_tree, n_neighbors=4, weights=uniform, score=0.956, total= 3.6min\n",
      "[CV] algorithm=kd_tree, n_neighbors=4, weights=uniform ...............\n",
      "[CV]  algorithm=kd_tree, n_neighbors=4, weights=uniform, score=0.950, total= 4.2min\n",
      "[CV] algorithm=kd_tree, n_neighbors=4, weights=uniform ...............\n",
      "[CV]  algorithm=kd_tree, n_neighbors=4, weights=uniform, score=0.952, total= 4.7min\n",
      "[CV] algorithm=kd_tree, n_neighbors=4, weights=uniform ...............\n",
      "[CV]  algorithm=kd_tree, n_neighbors=4, weights=uniform, score=0.947, total= 4.4min\n",
      "[CV] algorithm=kd_tree, n_neighbors=4, weights=uniform ...............\n",
      "[CV]  algorithm=kd_tree, n_neighbors=4, weights=uniform, score=0.955, total= 4.4min\n",
      "[CV] algorithm=kd_tree, n_neighbors=4, weights=distance ..............\n",
      "[CV]  algorithm=kd_tree, n_neighbors=4, weights=distance, score=0.964, total= 4.4min\n",
      "[CV] algorithm=kd_tree, n_neighbors=4, weights=distance ..............\n",
      "[CV]  algorithm=kd_tree, n_neighbors=4, weights=distance, score=0.951, total= 4.6min\n",
      "[CV] algorithm=kd_tree, n_neighbors=4, weights=distance ..............\n",
      "[CV]  algorithm=kd_tree, n_neighbors=4, weights=distance, score=0.956, total= 4.4min\n",
      "[CV] algorithm=kd_tree, n_neighbors=4, weights=distance ..............\n",
      "[CV]  algorithm=kd_tree, n_neighbors=4, weights=distance, score=0.954, total= 4.5min\n",
      "[CV] algorithm=kd_tree, n_neighbors=4, weights=distance ..............\n",
      "[CV]  algorithm=kd_tree, n_neighbors=4, weights=distance, score=0.959, total= 4.5min\n",
      "[CV] algorithm=kd_tree, n_neighbors=5, weights=uniform ...............\n",
      "[CV]  algorithm=kd_tree, n_neighbors=5, weights=uniform, score=0.956, total= 4.7min\n",
      "[CV] algorithm=kd_tree, n_neighbors=5, weights=uniform ...............\n",
      "[CV]  algorithm=kd_tree, n_neighbors=5, weights=uniform, score=0.952, total= 4.7min\n",
      "[CV] algorithm=kd_tree, n_neighbors=5, weights=uniform ...............\n",
      "[CV]  algorithm=kd_tree, n_neighbors=5, weights=uniform, score=0.954, total= 4.6min\n",
      "[CV] algorithm=kd_tree, n_neighbors=5, weights=uniform ...............\n",
      "[CV]  algorithm=kd_tree, n_neighbors=5, weights=uniform, score=0.949, total= 4.4min\n",
      "[CV] algorithm=kd_tree, n_neighbors=5, weights=uniform ...............\n",
      "[CV]  algorithm=kd_tree, n_neighbors=5, weights=uniform, score=0.957, total= 4.0min\n",
      "[CV] algorithm=kd_tree, n_neighbors=5, weights=distance ..............\n",
      "[CV]  algorithm=kd_tree, n_neighbors=5, weights=distance, score=0.960, total= 3.8min\n",
      "[CV] algorithm=kd_tree, n_neighbors=5, weights=distance ..............\n",
      "[CV]  algorithm=kd_tree, n_neighbors=5, weights=distance, score=0.951, total= 3.7min\n",
      "[CV] algorithm=kd_tree, n_neighbors=5, weights=distance ..............\n",
      "[CV]  algorithm=kd_tree, n_neighbors=5, weights=distance, score=0.954, total= 3.7min\n",
      "[CV] algorithm=kd_tree, n_neighbors=5, weights=distance ..............\n",
      "[CV]  algorithm=kd_tree, n_neighbors=5, weights=distance, score=0.952, total= 3.7min\n",
      "[CV] algorithm=kd_tree, n_neighbors=5, weights=distance ..............\n",
      "[CV]  algorithm=kd_tree, n_neighbors=5, weights=distance, score=0.957, total= 3.7min\n",
      "[CV] algorithm=brute, n_neighbors=2, weights=uniform .................\n",
      "[CV]  algorithm=brute, n_neighbors=2, weights=uniform, score=0.949, total=   4.9s\n",
      "[CV] algorithm=brute, n_neighbors=2, weights=uniform .................\n",
      "[CV]  algorithm=brute, n_neighbors=2, weights=uniform, score=0.947, total=   5.0s\n",
      "[CV] algorithm=brute, n_neighbors=2, weights=uniform .................\n",
      "[CV]  algorithm=brute, n_neighbors=2, weights=uniform, score=0.944, total=   5.3s\n",
      "[CV] algorithm=brute, n_neighbors=2, weights=uniform .................\n",
      "[CV]  algorithm=brute, n_neighbors=2, weights=uniform, score=0.938, total=   6.3s\n",
      "[CV] algorithm=brute, n_neighbors=2, weights=uniform .................\n",
      "[CV]  algorithm=brute, n_neighbors=2, weights=uniform, score=0.949, total=   5.5s\n",
      "[CV] algorithm=brute, n_neighbors=2, weights=distance ................\n",
      "[CV]  algorithm=brute, n_neighbors=2, weights=distance, score=0.959, total=   4.6s\n",
      "[CV] algorithm=brute, n_neighbors=2, weights=distance ................\n",
      "[CV]  algorithm=brute, n_neighbors=2, weights=distance, score=0.948, total=   4.7s\n",
      "[CV] algorithm=brute, n_neighbors=2, weights=distance ................\n",
      "[CV]  algorithm=brute, n_neighbors=2, weights=distance, score=0.953, total=   4.8s\n",
      "[CV] algorithm=brute, n_neighbors=2, weights=distance ................\n",
      "[CV]  algorithm=brute, n_neighbors=2, weights=distance, score=0.953, total=   4.7s\n",
      "[CV] algorithm=brute, n_neighbors=2, weights=distance ................\n",
      "[CV]  algorithm=brute, n_neighbors=2, weights=distance, score=0.956, total=   4.7s\n",
      "[CV] algorithm=brute, n_neighbors=3, weights=uniform .................\n",
      "[CV]  algorithm=brute, n_neighbors=3, weights=uniform, score=0.960, total=   5.1s\n",
      "[CV] algorithm=brute, n_neighbors=3, weights=uniform .................\n",
      "[CV]  algorithm=brute, n_neighbors=3, weights=uniform, score=0.948, total=   5.1s\n",
      "[CV] algorithm=brute, n_neighbors=3, weights=uniform .................\n",
      "[CV]  algorithm=brute, n_neighbors=3, weights=uniform, score=0.953, total=   5.1s\n",
      "[CV] algorithm=brute, n_neighbors=3, weights=uniform .................\n",
      "[CV]  algorithm=brute, n_neighbors=3, weights=uniform, score=0.949, total=   5.2s\n",
      "[CV] algorithm=brute, n_neighbors=3, weights=uniform .................\n",
      "[CV]  algorithm=brute, n_neighbors=3, weights=uniform, score=0.955, total=   5.0s\n",
      "[CV] algorithm=brute, n_neighbors=3, weights=distance ................\n",
      "[CV]  algorithm=brute, n_neighbors=3, weights=distance, score=0.963, total=   4.7s\n",
      "[CV] algorithm=brute, n_neighbors=3, weights=distance ................\n",
      "[CV]  algorithm=brute, n_neighbors=3, weights=distance, score=0.948, total=   4.8s\n",
      "[CV] algorithm=brute, n_neighbors=3, weights=distance ................\n",
      "[CV]  algorithm=brute, n_neighbors=3, weights=distance, score=0.955, total=   4.9s\n",
      "[CV] algorithm=brute, n_neighbors=3, weights=distance ................\n",
      "[CV]  algorithm=brute, n_neighbors=3, weights=distance, score=0.951, total=   4.8s\n",
      "[CV] algorithm=brute, n_neighbors=3, weights=distance ................\n",
      "[CV]  algorithm=brute, n_neighbors=3, weights=distance, score=0.960, total=   5.3s\n",
      "[CV] algorithm=brute, n_neighbors=4, weights=uniform .................\n",
      "[CV]  algorithm=brute, n_neighbors=4, weights=uniform, score=0.956, total=   6.5s\n",
      "[CV] algorithm=brute, n_neighbors=4, weights=uniform .................\n",
      "[CV]  algorithm=brute, n_neighbors=4, weights=uniform, score=0.950, total=   6.0s\n",
      "[CV] algorithm=brute, n_neighbors=4, weights=uniform .................\n",
      "[CV]  algorithm=brute, n_neighbors=4, weights=uniform, score=0.952, total=   6.1s\n",
      "[CV] algorithm=brute, n_neighbors=4, weights=uniform .................\n",
      "[CV]  algorithm=brute, n_neighbors=4, weights=uniform, score=0.947, total=   6.3s\n",
      "[CV] algorithm=brute, n_neighbors=4, weights=uniform .................\n",
      "[CV]  algorithm=brute, n_neighbors=4, weights=uniform, score=0.955, total=   6.2s\n",
      "[CV] algorithm=brute, n_neighbors=4, weights=distance ................\n",
      "[CV]  algorithm=brute, n_neighbors=4, weights=distance, score=0.964, total=   5.9s\n",
      "[CV] algorithm=brute, n_neighbors=4, weights=distance ................\n",
      "[CV]  algorithm=brute, n_neighbors=4, weights=distance, score=0.951, total=   5.8s\n",
      "[CV] algorithm=brute, n_neighbors=4, weights=distance ................\n",
      "[CV]  algorithm=brute, n_neighbors=4, weights=distance, score=0.956, total=   5.7s\n",
      "[CV] algorithm=brute, n_neighbors=4, weights=distance ................\n",
      "[CV]  algorithm=brute, n_neighbors=4, weights=distance, score=0.954, total=   5.9s\n",
      "[CV] algorithm=brute, n_neighbors=4, weights=distance ................\n",
      "[CV]  algorithm=brute, n_neighbors=4, weights=distance, score=0.959, total=   5.7s\n",
      "[CV] algorithm=brute, n_neighbors=5, weights=uniform .................\n",
      "[CV]  algorithm=brute, n_neighbors=5, weights=uniform, score=0.956, total=   6.3s\n",
      "[CV] algorithm=brute, n_neighbors=5, weights=uniform .................\n",
      "[CV]  algorithm=brute, n_neighbors=5, weights=uniform, score=0.952, total=   6.0s\n",
      "[CV] algorithm=brute, n_neighbors=5, weights=uniform .................\n",
      "[CV]  algorithm=brute, n_neighbors=5, weights=uniform, score=0.954, total=   6.0s\n",
      "[CV] algorithm=brute, n_neighbors=5, weights=uniform .................\n",
      "[CV]  algorithm=brute, n_neighbors=5, weights=uniform, score=0.949, total=   6.2s\n",
      "[CV] algorithm=brute, n_neighbors=5, weights=uniform .................\n",
      "[CV]  algorithm=brute, n_neighbors=5, weights=uniform, score=0.957, total=   6.0s\n",
      "[CV] algorithm=brute, n_neighbors=5, weights=distance ................\n",
      "[CV]  algorithm=brute, n_neighbors=5, weights=distance, score=0.960, total=   5.9s\n",
      "[CV] algorithm=brute, n_neighbors=5, weights=distance ................\n",
      "[CV]  algorithm=brute, n_neighbors=5, weights=distance, score=0.951, total=   5.7s\n",
      "[CV] algorithm=brute, n_neighbors=5, weights=distance ................\n",
      "[CV]  algorithm=brute, n_neighbors=5, weights=distance, score=0.954, total=   5.7s\n",
      "[CV] algorithm=brute, n_neighbors=5, weights=distance ................\n",
      "[CV]  algorithm=brute, n_neighbors=5, weights=distance, score=0.952, total=   5.9s\n",
      "[CV] algorithm=brute, n_neighbors=5, weights=distance ................\n",
      "[CV]  algorithm=brute, n_neighbors=5, weights=distance, score=0.957, total=   5.9s\n",
      "[Parallel(n_jobs=1)]: Done 160 out of 160 | elapsed: 715.5min finished\n"
     ]
    },
    {
     "output_type": "execute_result",
     "data": {
      "text/plain": [
       "GridSearchCV(cv=5, estimator=KNeighborsClassifier(),\n",
       "             param_grid=[{'algorithm': ['auto', 'ball_tree', 'kd_tree',\n",
       "                                        'brute'],\n",
       "                          'n_neighbors': [2, 3, 4, 5],\n",
       "                          'weights': ['uniform', 'distance']}],\n",
       "             verbose=3)"
      ]
     },
     "metadata": {},
     "execution_count": 32
    }
   ],
   "source": [
    "from sklearn.model_selection import GridSearchCV\n",
    "param_grid = [{ 'weights': ['uniform', 'distance'], 'n_neighbors': [2,3,4,5], 'algorithm' : ['auto', 'ball_tree', 'kd_tree', 'brute']}]\n",
    "\n",
    "knn_clf = KNeighborsClassifier()\n",
    "grid_search = GridSearchCV(knn_clf, param_grid, cv=5, verbose=3)\n",
    "grid_search.fit(X_train, y_train)"
   ]
  },
  {
   "cell_type": "code",
   "execution_count": null,
   "metadata": {},
   "outputs": [],
   "source": []
  }
 ]
}