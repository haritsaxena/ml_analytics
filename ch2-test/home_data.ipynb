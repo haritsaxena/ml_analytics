{
 "metadata": {
  "language_info": {
   "codemirror_mode": {
    "name": "ipython",
    "version": 3
   },
   "file_extension": ".py",
   "mimetype": "text/x-python",
   "name": "python",
   "nbconvert_exporter": "python",
   "pygments_lexer": "ipython3",
   "version": "3.8.2-final"
  },
  "orig_nbformat": 2,
  "kernelspec": {
   "name": "Python 3.8.2 64-bit",
   "display_name": "Python 3.8.2 64-bit",
   "metadata": {
    "interpreter": {
     "hash": "2db524e06e9f5f4ffedc911c917cb75e12dbc923643829bf417064a77eb14d37"
    }
   }
  }
 },
 "nbformat": 4,
 "nbformat_minor": 2,
 "cells": [
  {
   "cell_type": "code",
   "execution_count": 2,
   "metadata": {},
   "outputs": [],
   "source": [
    "import pandas as pd\n",
    "import numpy as np\n"
   ]
  },
  {
   "cell_type": "code",
   "execution_count": 34,
   "metadata": {
    "tags": []
   },
   "outputs": [
    {
     "output_type": "stream",
     "name": "stdout",
     "text": "<class 'pandas.core.frame.DataFrame'>\nRangeIndex: 1460 entries, 0 to 1459\nData columns (total 81 columns):\n #   Column         Non-Null Count  Dtype  \n---  ------         --------------  -----  \n 0   Id             1460 non-null   int64  \n 1   MSSubClass     1460 non-null   int64  \n 2   MSZoning       1460 non-null   object \n 3   LotFrontage    1201 non-null   float64\n 4   LotArea        1460 non-null   int64  \n 5   Street         1460 non-null   object \n 6   Alley          91 non-null     object \n 7   LotShape       1460 non-null   object \n 8   LandContour    1460 non-null   object \n 9   Utilities      1460 non-null   object \n 10  LotConfig      1460 non-null   object \n 11  LandSlope      1460 non-null   object \n 12  Neighborhood   1460 non-null   object \n 13  Condition1     1460 non-null   object \n 14  Condition2     1460 non-null   object \n 15  BldgType       1460 non-null   object \n 16  HouseStyle     1460 non-null   object \n 17  OverallQual    1460 non-null   int64  \n 18  OverallCond    1460 non-null   int64  \n 19  YearBuilt      1460 non-null   int64  \n 20  YearRemodAdd   1460 non-null   int64  \n 21  RoofStyle      1460 non-null   object \n 22  RoofMatl       1460 non-null   object \n 23  Exterior1st    1460 non-null   object \n 24  Exterior2nd    1460 non-null   object \n 25  MasVnrType     1452 non-null   object \n 26  MasVnrArea     1452 non-null   float64\n 27  ExterQual      1460 non-null   object \n 28  ExterCond      1460 non-null   object \n 29  Foundation     1460 non-null   object \n 30  BsmtQual       1423 non-null   object \n 31  BsmtCond       1423 non-null   object \n 32  BsmtExposure   1422 non-null   object \n 33  BsmtFinType1   1423 non-null   object \n 34  BsmtFinSF1     1460 non-null   int64  \n 35  BsmtFinType2   1422 non-null   object \n 36  BsmtFinSF2     1460 non-null   int64  \n 37  BsmtUnfSF      1460 non-null   int64  \n 38  TotalBsmtSF    1460 non-null   int64  \n 39  Heating        1460 non-null   object \n 40  HeatingQC      1460 non-null   object \n 41  CentralAir     1460 non-null   object \n 42  Electrical     1459 non-null   object \n 43  1stFlrSF       1460 non-null   int64  \n 44  2ndFlrSF       1460 non-null   int64  \n 45  LowQualFinSF   1460 non-null   int64  \n 46  GrLivArea      1460 non-null   int64  \n 47  BsmtFullBath   1460 non-null   int64  \n 48  BsmtHalfBath   1460 non-null   int64  \n 49  FullBath       1460 non-null   int64  \n 50  HalfBath       1460 non-null   int64  \n 51  BedroomAbvGr   1460 non-null   int64  \n 52  KitchenAbvGr   1460 non-null   int64  \n 53  KitchenQual    1460 non-null   object \n 54  TotRmsAbvGrd   1460 non-null   int64  \n 55  Functional     1460 non-null   object \n 56  Fireplaces     1460 non-null   int64  \n 57  FireplaceQu    770 non-null    object \n 58  GarageType     1379 non-null   object \n 59  GarageYrBlt    1379 non-null   float64\n 60  GarageFinish   1379 non-null   object \n 61  GarageCars     1460 non-null   int64  \n 62  GarageArea     1460 non-null   int64  \n 63  GarageQual     1379 non-null   object \n 64  GarageCond     1379 non-null   object \n 65  PavedDrive     1460 non-null   object \n 66  WoodDeckSF     1460 non-null   int64  \n 67  OpenPorchSF    1460 non-null   int64  \n 68  EnclosedPorch  1460 non-null   int64  \n 69  3SsnPorch      1460 non-null   int64  \n 70  ScreenPorch    1460 non-null   int64  \n 71  PoolArea       1460 non-null   int64  \n 72  PoolQC         7 non-null      object \n 73  Fence          281 non-null    object \n 74  MiscFeature    54 non-null     object \n 75  MiscVal        1460 non-null   int64  \n 76  MoSold         1460 non-null   int64  \n 77  YrSold         1460 non-null   int64  \n 78  SaleType       1460 non-null   object \n 79  SaleCondition  1460 non-null   object \n 80  SalePrice      1460 non-null   int64  \ndtypes: float64(3), int64(35), object(43)\nmemory usage: 924.0+ KB\n"
    }
   ],
   "source": [
    "home_data = pd.read_csv('train.csv')\n",
    "home_data.info()"
   ]
  },
  {
   "cell_type": "code",
   "execution_count": 9,
   "metadata": {},
   "outputs": [
    {
     "output_type": "execute_result",
     "data": {
      "text/plain": "SalePrice        1.000000\nOverallQual      0.790982\nGrLivArea        0.708624\nGarageCars       0.640409\nGarageArea       0.623431\nTotalBsmtSF      0.613581\n1stFlrSF         0.605852\nFullBath         0.560664\nTotRmsAbvGrd     0.533723\nYearBuilt        0.522897\nYearRemodAdd     0.507101\nGarageYrBlt      0.486362\nMasVnrArea       0.477493\nFireplaces       0.466929\nBsmtFinSF1       0.386420\nLotFrontage      0.351799\nWoodDeckSF       0.324413\n2ndFlrSF         0.319334\nOpenPorchSF      0.315856\nHalfBath         0.284108\nLotArea          0.263843\nBsmtFullBath     0.227122\nBsmtUnfSF        0.214479\nBedroomAbvGr     0.168213\nScreenPorch      0.111447\nPoolArea         0.092404\nMoSold           0.046432\n3SsnPorch        0.044584\nBsmtFinSF2      -0.011378\nBsmtHalfBath    -0.016844\nMiscVal         -0.021190\nId              -0.021917\nLowQualFinSF    -0.025606\nYrSold          -0.028923\nOverallCond     -0.077856\nMSSubClass      -0.084284\nEnclosedPorch   -0.128578\nKitchenAbvGr    -0.135907\nName: SalePrice, dtype: float64"
     },
     "metadata": {},
     "execution_count": 9
    }
   ],
   "source": [
    "corr_matrix = home_data.corr()\n",
    "corr_matrix[\"SalePrice\"].sort_values(ascending=False)"
   ]
  },
  {
   "cell_type": "code",
   "execution_count": 45,
   "metadata": {
    "tags": []
   },
   "outputs": [],
   "source": [
    "features = ['GarageYrBlt', 'OverallQual', 'TotalBsmtSF', 'GrLivArea', 'FullBath',\n",
    "       '2ndFlrSF', 'ExterQual', 'YearBuilt', 'GarageCars',\n",
    "       'BsmtQual', 'YearRemodAdd', 'LotArea', 'GarageArea', 'MSSubClass', '1stFlrSF',   'TotRmsAbvGrd', 'LotFrontage']\n",
    "X = home_data[features]"
   ]
  },
  {
   "cell_type": "code",
   "execution_count": 46,
   "metadata": {
    "tags": []
   },
   "outputs": [
    {
     "output_type": "stream",
     "name": "stdout",
     "text": "<class 'pandas.core.frame.DataFrame'>\nRangeIndex: 1460 entries, 0 to 1459\nData columns (total 17 columns):\n #   Column        Non-Null Count  Dtype  \n---  ------        --------------  -----  \n 0   GarageYrBlt   1379 non-null   float64\n 1   OverallQual   1460 non-null   int64  \n 2   TotalBsmtSF   1460 non-null   int64  \n 3   GrLivArea     1460 non-null   int64  \n 4   FullBath      1460 non-null   int64  \n 5   2ndFlrSF      1460 non-null   int64  \n 6   ExterQual     1460 non-null   object \n 7   YearBuilt     1460 non-null   int64  \n 8   GarageCars    1460 non-null   int64  \n 9   BsmtQual      1423 non-null   object \n 10  YearRemodAdd  1460 non-null   int64  \n 11  LotArea       1460 non-null   int64  \n 12  GarageArea    1460 non-null   int64  \n 13  MSSubClass    1460 non-null   int64  \n 14  1stFlrSF      1460 non-null   int64  \n 15  TotRmsAbvGrd  1460 non-null   int64  \n 16  LotFrontage   1201 non-null   float64\ndtypes: float64(2), int64(13), object(2)\nmemory usage: 194.0+ KB\n"
    }
   ],
   "source": [
    "X.info()\n"
   ]
  },
  {
   "cell_type": "code",
   "execution_count": 77,
   "metadata": {
    "tags": []
   },
   "outputs": [],
   "source": [
    "# replace null values from category columns\n",
    "X.loc[X.ExterQual.isnull(), 'ExterQual'] = 'TA'\n",
    "X.loc[X.BsmtQual.isnull(), 'BsmtQual'] = 'TA'\n"
   ]
  },
  {
   "cell_type": "code",
   "execution_count": 78,
   "metadata": {
    "tags": []
   },
   "outputs": [
    {
     "output_type": "stream",
     "name": "stdout",
     "text": "<class 'pandas.core.frame.DataFrame'>\nRangeIndex: 1460 entries, 0 to 1459\nData columns (total 17 columns):\n #   Column        Non-Null Count  Dtype  \n---  ------        --------------  -----  \n 0   GarageYrBlt   1379 non-null   float64\n 1   OverallQual   1460 non-null   int64  \n 2   TotalBsmtSF   1460 non-null   int64  \n 3   GrLivArea     1460 non-null   int64  \n 4   FullBath      1460 non-null   int64  \n 5   2ndFlrSF      1460 non-null   int64  \n 6   ExterQual     1460 non-null   object \n 7   YearBuilt     1460 non-null   int64  \n 8   GarageCars    1460 non-null   int64  \n 9   BsmtQual      1460 non-null   object \n 10  YearRemodAdd  1460 non-null   int64  \n 11  LotArea       1460 non-null   int64  \n 12  GarageArea    1460 non-null   int64  \n 13  MSSubClass    1460 non-null   int64  \n 14  1stFlrSF      1460 non-null   int64  \n 15  TotRmsAbvGrd  1460 non-null   int64  \n 16  LotFrontage   1201 non-null   float64\ndtypes: float64(2), int64(13), object(2)\nmemory usage: 194.0+ KB\n"
    }
   ],
   "source": [
    "X.info()"
   ]
  },
  {
   "cell_type": "code",
   "execution_count": 59,
   "metadata": {},
   "outputs": [],
   "source": [
    "#seperate numeric and category columns\n",
    "X_num = X.drop([\"ExterQual\", \"BsmtQual\"], axis=1)\n"
   ]
  },
  {
   "cell_type": "code",
   "execution_count": 60,
   "metadata": {
    "tags": []
   },
   "outputs": [
    {
     "output_type": "stream",
     "name": "stdout",
     "text": "<class 'pandas.core.frame.DataFrame'>\nRangeIndex: 1460 entries, 0 to 1459\nData columns (total 15 columns):\n #   Column        Non-Null Count  Dtype  \n---  ------        --------------  -----  \n 0   GarageYrBlt   1379 non-null   float64\n 1   OverallQual   1460 non-null   int64  \n 2   TotalBsmtSF   1460 non-null   int64  \n 3   GrLivArea     1460 non-null   int64  \n 4   FullBath      1460 non-null   int64  \n 5   2ndFlrSF      1460 non-null   int64  \n 6   YearBuilt     1460 non-null   int64  \n 7   GarageCars    1460 non-null   int64  \n 8   YearRemodAdd  1460 non-null   int64  \n 9   LotArea       1460 non-null   int64  \n 10  GarageArea    1460 non-null   int64  \n 11  MSSubClass    1460 non-null   int64  \n 12  1stFlrSF      1460 non-null   int64  \n 13  TotRmsAbvGrd  1460 non-null   int64  \n 14  LotFrontage   1201 non-null   float64\ndtypes: float64(2), int64(13)\nmemory usage: 171.2 KB\n"
    }
   ],
   "source": [
    "X_num.info()"
   ]
  },
  {
   "cell_type": "code",
   "execution_count": 62,
   "metadata": {},
   "outputs": [],
   "source": [
    "from sklearn.pipeline import Pipeline \n",
    "from sklearn.preprocessing import StandardScaler\n",
    "from sklearn.impute import SimpleImputer\n",
    "num_pipeline = Pipeline([ \n",
    "    ('imputer', SimpleImputer(strategy=\"median\")), \n",
    "    ('std_scaler', StandardScaler()),\n",
    "]) \n",
    "\n",
    "X_num_tr = num_pipeline.fit_transform(X_num)"
   ]
  },
  {
   "cell_type": "code",
   "execution_count": 64,
   "metadata": {},
   "outputs": [],
   "source": [
    "housing_tr = pd.DataFrame(X_num_tr, columns=X_num.columns)"
   ]
  },
  {
   "cell_type": "code",
   "execution_count": 65,
   "metadata": {
    "tags": []
   },
   "outputs": [
    {
     "output_type": "stream",
     "name": "stdout",
     "text": "<class 'pandas.core.frame.DataFrame'>\nRangeIndex: 1460 entries, 0 to 1459\nData columns (total 15 columns):\n #   Column        Non-Null Count  Dtype  \n---  ------        --------------  -----  \n 0   GarageYrBlt   1460 non-null   float64\n 1   OverallQual   1460 non-null   float64\n 2   TotalBsmtSF   1460 non-null   float64\n 3   GrLivArea     1460 non-null   float64\n 4   FullBath      1460 non-null   float64\n 5   2ndFlrSF      1460 non-null   float64\n 6   YearBuilt     1460 non-null   float64\n 7   GarageCars    1460 non-null   float64\n 8   YearRemodAdd  1460 non-null   float64\n 9   LotArea       1460 non-null   float64\n 10  GarageArea    1460 non-null   float64\n 11  MSSubClass    1460 non-null   float64\n 12  1stFlrSF      1460 non-null   float64\n 13  TotRmsAbvGrd  1460 non-null   float64\n 14  LotFrontage   1460 non-null   float64\ndtypes: float64(15)\nmemory usage: 171.2 KB\n"
    }
   ],
   "source": [
    "housing_tr.info() \n",
    "#now all columns has 1460 columns"
   ]
  },
  {
   "cell_type": "code",
   "execution_count": 79,
   "metadata": {},
   "outputs": [],
   "source": [
    "from sklearn.compose import ColumnTransformer\n",
    "from sklearn.preprocessing import OneHotEncoder\n",
    "num_attribs = list(housing_tr) \n",
    "cat_attribs = [\"ExterQual\", \"BsmtQual\"]\n",
    "full_pipeline = ColumnTransformer([ \n",
    "    (\"num\", num_pipeline, num_attribs), \n",
    "    (\"cat\", OneHotEncoder(), cat_attribs),\n",
    "])\n",
    "X_prepared = full_pipeline.fit_transform(X)"
   ]
  },
  {
   "cell_type": "code",
   "execution_count": 80,
   "metadata": {},
   "outputs": [
    {
     "output_type": "execute_result",
     "data": {
      "text/plain": "array([[ 1.01759808,  0.65147924, -0.45930254, ...,  0.        ,\n         1.        ,  0.        ],\n       [-0.10792707, -0.07183611,  0.46646492, ...,  0.        ,\n         1.        ,  0.        ],\n       [ 0.93422585,  0.65147924, -0.31336875, ...,  0.        ,\n         1.        ,  0.        ],\n       ...,\n       [-1.56694116,  0.65147924,  0.21564122, ...,  0.        ,\n         0.        ,  1.        ],\n       [-1.19176611, -0.79515147,  0.04690528, ...,  0.        ,\n         0.        ,  1.        ],\n       [-0.56647435, -0.79515147,  0.45278362, ...,  0.        ,\n         0.        ,  1.        ]])"
     },
     "metadata": {},
     "execution_count": 80
    }
   ],
   "source": [
    "X_prepared"
   ]
  },
  {
   "cell_type": "code",
   "execution_count": 85,
   "metadata": {},
   "outputs": [
    {
     "output_type": "execute_result",
     "data": {
      "text/plain": "LinearRegression()"
     },
     "metadata": {},
     "execution_count": 85
    }
   ],
   "source": [
    "\n",
    "from sklearn.linear_model import LinearRegression\n",
    "y = home_data.SalePrice\n",
    "lin_reg = LinearRegression() \n",
    "lin_reg.fit(X_prepared, y)\n"
   ]
  },
  {
   "cell_type": "code",
   "execution_count": 111,
   "metadata": {},
   "outputs": [
    {
     "output_type": "execute_result",
     "data": {
      "text/plain": "RandomForestRegressor()"
     },
     "metadata": {},
     "execution_count": 111
    }
   ],
   "source": [
    "from sklearn.ensemble import RandomForestRegressor \n",
    "forest_reg = RandomForestRegressor() \n",
    "forest_reg.fit(X_prepared, y)"
   ]
  },
  {
   "cell_type": "code",
   "execution_count": 116,
   "metadata": {},
   "outputs": [
    {
     "output_type": "execute_result",
     "data": {
      "text/plain": "DecisionTreeRegressor()"
     },
     "metadata": {},
     "execution_count": 116
    }
   ],
   "source": [
    "from sklearn.tree import DecisionTreeRegressor\n",
    "tree_reg = DecisionTreeRegressor() \n",
    "tree_reg.fit(X_prepared, y)"
   ]
  },
  {
   "cell_type": "code",
   "execution_count": 123,
   "metadata": {},
   "outputs": [],
   "source": [
    "def calculate_prediction(regressor):\n",
    "    housing_predictions = regressor.predict(X_prepared) \n",
    "    mse = mean_squared_error(y, housing_predictions) \n",
    "    rmse = np.sqrt(mse) \n",
    "    print(rmse)"
   ]
  },
  {
   "cell_type": "code",
   "execution_count": 128,
   "metadata": {
    "tags": []
   },
   "outputs": [
    {
     "output_type": "stream",
     "name": "stdout",
     "text": "34247.37181751821\n"
    }
   ],
   "source": [
    "calculate_prediction(lin_reg)"
   ]
  },
  {
   "cell_type": "code",
   "execution_count": 131,
   "metadata": {
    "tags": []
   },
   "outputs": [
    {
     "output_type": "stream",
     "name": "stdout",
     "text": "313.81072153413066\n"
    }
   ],
   "source": [
    "calculate_prediction(tree_reg)"
   ]
  },
  {
   "cell_type": "code",
   "execution_count": 127,
   "metadata": {
    "tags": []
   },
   "outputs": [
    {
     "output_type": "stream",
     "name": "stdout",
     "text": "11157.319922169352\n"
    }
   ],
   "source": [
    "calculate_prediction(forest_reg)"
   ]
  },
  {
   "cell_type": "code",
   "execution_count": 107,
   "metadata": {},
   "outputs": [],
   "source": [
    "from sklearn.model_selection import cross_val_score \n",
    "def calculate_scores(regressor): \n",
    "    scores = cross_val_score(regressor, X_prepared, y, scoring=\"neg_mean_squared_error\", cv=10)\n",
    "    rmse_scores = np.sqrt(-scores)\n",
    "    print(\"Scores:\", rmse_scores) \n",
    "    print(\"Mean:\", rmse_scores.mean()) \n",
    "    print(\"Standard deviation:\", rmse_scores.std())"
   ]
  },
  {
   "cell_type": "code",
   "execution_count": 130,
   "metadata": {
    "tags": []
   },
   "outputs": [
    {
     "output_type": "stream",
     "name": "stdout",
     "text": "Scores: [27711.49922123 26984.16616487 24943.76236589 39899.23471029\n 35893.04440642 25282.91140692 25233.76521635 25960.06051419\n 38059.61369619 29544.82474617]\nMean: 29951.28824485031\nStandard deviation: 5468.552895629527\n"
    }
   ],
   "source": [
    "calculate_scores(forest_reg)"
   ]
  },
  {
   "cell_type": "code",
   "execution_count": 113,
   "metadata": {
    "tags": []
   },
   "outputs": [
    {
     "output_type": "stream",
     "name": "stdout",
     "text": "Scores: [25135.02063738 31431.45812663 24891.43263529 45044.20655003\n 40023.23972241 31696.62264113 29904.68546925 28124.02937494\n 61116.92097236 27440.03029387]\nMean: 34480.76464232865\nStandard deviation: 10765.95847692435\n"
    }
   ],
   "source": [
    "calculate_scores(lin_reg)"
   ]
  },
  {
   "cell_type": "code",
   "execution_count": 129,
   "metadata": {
    "tags": []
   },
   "outputs": [
    {
     "output_type": "stream",
     "name": "stdout",
     "text": "Scores: [35989.51376843 40027.66037435 34737.17002742 47800.6995117\n 47252.33417174 32011.95154532 39571.91988014 33604.59881581\n 50568.05649002 52311.033553  ]\nMean: 41387.49381379285\nStandard deviation: 7114.188002416716\n"
    }
   ],
   "source": [
    "calculate_scores(tree_reg)"
   ]
  },
  {
   "cell_type": "code",
   "execution_count": 132,
   "metadata": {},
   "outputs": [
    {
     "output_type": "execute_result",
     "data": {
      "text/plain": "GridSearchCV(cv=5, estimator=RandomForestRegressor(),\n             param_grid=[{'max_features': [2, 4, 6, 8],\n                          'n_estimators': [3, 10, 30]},\n                         {'bootstrap': [False], 'max_features': [2, 3, 4],\n                          'n_estimators': [3, 10]}],\n             return_train_score=True, scoring='neg_mean_squared_error')"
     },
     "metadata": {},
     "execution_count": 132
    }
   ],
   "source": [
    "#hyperparameters\n",
    "from sklearn.model_selection import GridSearchCV\n",
    "param_grid = [ {'n_estimators': [3, 10, 30], 'max_features': [2, 4, 6, 8]}, {'bootstrap': [False], 'n_estimators': [3, 10], 'max_features': [2, 3, 4]},\n",
    "] \n",
    "forest_reg = RandomForestRegressor()\n",
    "grid_search = GridSearchCV(forest_reg, param_grid, cv=5, scoring='neg_mean_squared_error', return_train_score=True)\n",
    "grid_search.fit(X_prepared, y)"
   ]
  },
  {
   "cell_type": "code",
   "execution_count": 134,
   "metadata": {},
   "outputs": [
    {
     "output_type": "execute_result",
     "data": {
      "text/plain": "RandomForestRegressor(max_features=6, n_estimators=30)"
     },
     "metadata": {},
     "execution_count": 134
    }
   ],
   "source": [
    "grid_search.best_estimator_"
   ]
  },
  {
   "cell_type": "code",
   "execution_count": 142,
   "metadata": {},
   "outputs": [
    {
     "output_type": "execute_result",
     "data": {
      "text/plain": "RandomizedSearchCV(cv=5, estimator=RandomForestRegressor(),\n                   param_distributions=[{'max_features': [2, 4, 6, 8],\n                                         'n_estimators': [3, 10, 30]},\n                                        {'bootstrap': [False],\n                                         'max_features': [2, 3, 4],\n                                         'n_estimators': [3, 10]}],\n                   return_train_score=True, scoring='neg_mean_squared_error')"
     },
     "metadata": {},
     "execution_count": 142
    }
   ],
   "source": [
    "from sklearn.model_selection import RandomizedSearchCV\n",
    "param_grid = [ {'n_estimators': [3, 10, 30], 'max_features': [2, 4, 6, 8]}, {'bootstrap': [False], 'n_estimators': [3, 10], 'max_features': [2, 3, 4]},\n",
    "] \n",
    "forest_reg = RandomForestRegressor()\n",
    "random_search = RandomizedSearchCV(forest_reg, param_grid, cv=5, scoring='neg_mean_squared_error', return_train_score=True)\n",
    "random_search.fit(X_prepared, y)"
   ]
  },
  {
   "cell_type": "code",
   "execution_count": null,
   "metadata": {},
   "outputs": [],
   "source": []
  },
  {
   "cell_type": "code",
   "execution_count": 97,
   "metadata": {
    "tags": []
   },
   "outputs": [
    {
     "output_type": "stream",
     "name": "stdout",
     "text": "<class 'pandas.core.frame.DataFrame'>\nRangeIndex: 1459 entries, 0 to 1458\nData columns (total 80 columns):\n #   Column         Non-Null Count  Dtype  \n---  ------         --------------  -----  \n 0   Id             1459 non-null   int64  \n 1   MSSubClass     1459 non-null   int64  \n 2   MSZoning       1455 non-null   object \n 3   LotFrontage    1232 non-null   float64\n 4   LotArea        1459 non-null   int64  \n 5   Street         1459 non-null   object \n 6   Alley          107 non-null    object \n 7   LotShape       1459 non-null   object \n 8   LandContour    1459 non-null   object \n 9   Utilities      1457 non-null   object \n 10  LotConfig      1459 non-null   object \n 11  LandSlope      1459 non-null   object \n 12  Neighborhood   1459 non-null   object \n 13  Condition1     1459 non-null   object \n 14  Condition2     1459 non-null   object \n 15  BldgType       1459 non-null   object \n 16  HouseStyle     1459 non-null   object \n 17  OverallQual    1459 non-null   int64  \n 18  OverallCond    1459 non-null   int64  \n 19  YearBuilt      1459 non-null   int64  \n 20  YearRemodAdd   1459 non-null   int64  \n 21  RoofStyle      1459 non-null   object \n 22  RoofMatl       1459 non-null   object \n 23  Exterior1st    1458 non-null   object \n 24  Exterior2nd    1458 non-null   object \n 25  MasVnrType     1443 non-null   object \n 26  MasVnrArea     1444 non-null   float64\n 27  ExterQual      1459 non-null   object \n 28  ExterCond      1459 non-null   object \n 29  Foundation     1459 non-null   object \n 30  BsmtQual       1415 non-null   object \n 31  BsmtCond       1414 non-null   object \n 32  BsmtExposure   1415 non-null   object \n 33  BsmtFinType1   1417 non-null   object \n 34  BsmtFinSF1     1458 non-null   float64\n 35  BsmtFinType2   1417 non-null   object \n 36  BsmtFinSF2     1458 non-null   float64\n 37  BsmtUnfSF      1458 non-null   float64\n 38  TotalBsmtSF    1458 non-null   float64\n 39  Heating        1459 non-null   object \n 40  HeatingQC      1459 non-null   object \n 41  CentralAir     1459 non-null   object \n 42  Electrical     1459 non-null   object \n 43  1stFlrSF       1459 non-null   int64  \n 44  2ndFlrSF       1459 non-null   int64  \n 45  LowQualFinSF   1459 non-null   int64  \n 46  GrLivArea      1459 non-null   int64  \n 47  BsmtFullBath   1457 non-null   float64\n 48  BsmtHalfBath   1457 non-null   float64\n 49  FullBath       1459 non-null   int64  \n 50  HalfBath       1459 non-null   int64  \n 51  BedroomAbvGr   1459 non-null   int64  \n 52  KitchenAbvGr   1459 non-null   int64  \n 53  KitchenQual    1458 non-null   object \n 54  TotRmsAbvGrd   1459 non-null   int64  \n 55  Functional     1457 non-null   object \n 56  Fireplaces     1459 non-null   int64  \n 57  FireplaceQu    729 non-null    object \n 58  GarageType     1383 non-null   object \n 59  GarageYrBlt    1381 non-null   float64\n 60  GarageFinish   1381 non-null   object \n 61  GarageCars     1458 non-null   float64\n 62  GarageArea     1458 non-null   float64\n 63  GarageQual     1381 non-null   object \n 64  GarageCond     1381 non-null   object \n 65  PavedDrive     1459 non-null   object \n 66  WoodDeckSF     1459 non-null   int64  \n 67  OpenPorchSF    1459 non-null   int64  \n 68  EnclosedPorch  1459 non-null   int64  \n 69  3SsnPorch      1459 non-null   int64  \n 70  ScreenPorch    1459 non-null   int64  \n 71  PoolArea       1459 non-null   int64  \n 72  PoolQC         3 non-null      object \n 73  Fence          290 non-null    object \n 74  MiscFeature    51 non-null     object \n 75  MiscVal        1459 non-null   int64  \n 76  MoSold         1459 non-null   int64  \n 77  YrSold         1459 non-null   int64  \n 78  SaleType       1458 non-null   object \n 79  SaleCondition  1459 non-null   object \ndtypes: float64(11), int64(26), object(43)\nmemory usage: 912.0+ KB\n"
    }
   ],
   "source": [
    "home_test_set = pd.read_csv('test.csv')\n",
    "home_test_set.info()"
   ]
  },
  {
   "cell_type": "code",
   "execution_count": 102,
   "metadata": {},
   "outputs": [],
   "source": [
    "home_test_set.loc[home_test_set.ExterQual.isnull(), 'ExterQual'] = 'TA'\n",
    "home_test_set.loc[home_test_set.BsmtQual.isnull(), 'BsmtQual'] = 'TA'"
   ]
  },
  {
   "cell_type": "code",
   "execution_count": 143,
   "metadata": {},
   "outputs": [],
   "source": [
    "X_test_prepared = full_pipeline.transform(home_test_set) \n",
    "final_predictions = random_search.best_estimator_.predict(X_test_prepared)\n"
   ]
  },
  {
   "cell_type": "code",
   "execution_count": 144,
   "metadata": {},
   "outputs": [],
   "source": [
    "output = pd.DataFrame({'Id': home_test_set.Id,'SalePrice': final_predictions})\n",
    "output.to_csv('submission.csv', index=False)"
   ]
  }
 ]
}