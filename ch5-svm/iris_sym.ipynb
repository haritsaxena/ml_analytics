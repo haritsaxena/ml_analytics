{
 "metadata": {
  "language_info": {
   "codemirror_mode": {
    "name": "ipython",
    "version": 3
   },
   "file_extension": ".py",
   "mimetype": "text/x-python",
   "name": "python",
   "nbconvert_exporter": "python",
   "pygments_lexer": "ipython3",
   "version": "3.8.2-final"
  },
  "orig_nbformat": 2,
  "kernelspec": {
   "name": "python38264bitb085e819d0bc4aa1a771868326757f5f",
   "display_name": "Python 3.8.2 64-bit"
  }
 },
 "nbformat": 4,
 "nbformat_minor": 2,
 "cells": [
  {
   "cell_type": "code",
   "execution_count": 1,
   "metadata": {},
   "outputs": [],
   "source": [
    "import numpy as np\n",
    "from sklearn import datasets\n",
    "iris = datasets.load_iris()"
   ]
  },
  {
   "cell_type": "code",
   "execution_count": 4,
   "metadata": {},
   "outputs": [
    {
     "output_type": "stream",
     "name": "stdout",
     "text": [
      "dict_keys(['data', 'target', 'frame', 'target_names', 'DESCR', 'feature_names', 'filename'])\n"
     ]
    }
   ],
   "source": [
    "print(iris.keys())"
   ]
  },
  {
   "cell_type": "code",
   "execution_count": 49,
   "metadata": {},
   "outputs": [
    {
     "output_type": "execute_result",
     "data": {
      "text/plain": [
       "(150, 4)"
      ]
     },
     "metadata": {},
     "execution_count": 49
    }
   ],
   "source": [
    "iris.data[:5]\n",
    "iris.data.shape"
   ]
  },
  {
   "cell_type": "code",
   "execution_count": 38,
   "metadata": {},
   "outputs": [
    {
     "output_type": "stream",
     "name": "stdout",
     "text": [
      "[[ 1  2  3  4  5]\n [ 6  7  8  9 10]]\n[[1 2 3 4 5]]\n"
     ]
    }
   ],
   "source": [
    "#playing witn humpy arrays\n",
    "arr = np.array([[1, 2, 3, 4, 5], [6, 7, 8, 9, 10]])\n",
    "print(arr)\n",
    "#print(arr[:3])\n",
    "print(arr[0:1])"
   ]
  },
  {
   "cell_type": "code",
   "execution_count": 66,
   "metadata": {},
   "outputs": [],
   "source": [
    "#iris \n",
    "\n",
    "X = iris.data[:,(2,3)] #petal length, petal width\n",
    "y = (iris[\"target\"] == 2).astype(np.float64) # Iris-Virginica "
   ]
  },
  {
   "cell_type": "code",
   "execution_count": 73,
   "metadata": {},
   "outputs": [
    {
     "output_type": "execute_result",
     "data": {
      "text/plain": [
       "Pipeline(steps=[('scaler', StandardScaler()),\n",
       "                ('linearsvc', LinearSVC(C=1, loss='hinge'))])"
      ]
     },
     "metadata": {},
     "execution_count": 73
    }
   ],
   "source": [
    "from sklearn.pipeline import Pipeline \n",
    "from sklearn.preprocessing import StandardScaler \n",
    "from sklearn.svm import LinearSVC\n",
    "\n",
    "svm_clf = Pipeline([\n",
    "    (\"scaler\",StandardScaler()),\n",
    "    (\"linearsvc\", LinearSVC(C=1, loss=\"hinge\"))\n",
    "])\n",
    "\n",
    "svm_clf.fit(X, y)"
   ]
  },
  {
   "cell_type": "code",
   "execution_count": 84,
   "metadata": {},
   "outputs": [
    {
     "output_type": "execute_result",
     "data": {
      "text/plain": [
       "array([0.])"
      ]
     },
     "metadata": {},
     "execution_count": 84
    }
   ],
   "source": [
    "svm_clf.predict([[2, 2]])"
   ]
  },
  {
   "cell_type": "code",
   "execution_count": null,
   "metadata": {},
   "outputs": [],
   "source": []
  },
  {
   "cell_type": "code",
   "execution_count": 81,
   "metadata": {},
   "outputs": [
    {
     "output_type": "stream",
     "name": "stdout",
     "text": [
      "[[1.4 0.2]\n [1.4 0.2]\n [1.3 0.2]\n [1.5 0.2]\n [1.4 0.2]\n [1.7 0.4]\n [1.4 0.3]\n [1.5 0.2]\n [1.4 0.2]\n [1.5 0.1]\n [1.5 0.2]\n [1.6 0.2]\n [1.4 0.1]\n [1.1 0.1]\n [1.2 0.2]\n [1.5 0.4]\n [1.3 0.4]\n [1.4 0.3]\n [1.7 0.3]\n [1.5 0.3]\n [1.7 0.2]\n [1.5 0.4]\n [1.  0.2]\n [1.7 0.5]\n [1.9 0.2]\n [1.6 0.2]\n [1.6 0.4]\n [1.5 0.2]\n [1.4 0.2]\n [1.6 0.2]\n [1.6 0.2]\n [1.5 0.4]\n [1.5 0.1]\n [1.4 0.2]\n [1.5 0.2]\n [1.2 0.2]\n [1.3 0.2]\n [1.4 0.1]\n [1.3 0.2]\n [1.5 0.2]\n [1.3 0.3]\n [1.3 0.3]\n [1.3 0.2]\n [1.6 0.6]\n [1.9 0.4]\n [1.4 0.3]\n [1.6 0.2]\n [1.4 0.2]\n [1.5 0.2]\n [1.4 0.2]\n [4.7 1.4]\n [4.5 1.5]\n [4.9 1.5]\n [4.  1.3]\n [4.6 1.5]\n [4.5 1.3]\n [4.7 1.6]\n [3.3 1. ]\n [4.6 1.3]\n [3.9 1.4]\n [3.5 1. ]\n [4.2 1.5]\n [4.  1. ]\n [4.7 1.4]\n [3.6 1.3]\n [4.4 1.4]\n [4.5 1.5]\n [4.1 1. ]\n [4.5 1.5]\n [3.9 1.1]\n [4.8 1.8]\n [4.  1.3]\n [4.9 1.5]\n [4.7 1.2]\n [4.3 1.3]\n [4.4 1.4]\n [4.8 1.4]\n [5.  1.7]\n [4.5 1.5]\n [3.5 1. ]\n [3.8 1.1]\n [3.7 1. ]\n [3.9 1.2]\n [5.1 1.6]\n [4.5 1.5]\n [4.5 1.6]\n [4.7 1.5]\n [4.4 1.3]\n [4.1 1.3]\n [4.  1.3]\n [4.4 1.2]\n [4.6 1.4]\n [4.  1.2]\n [3.3 1. ]\n [4.2 1.3]\n [4.2 1.2]\n [4.2 1.3]\n [4.3 1.3]\n [3.  1.1]\n [4.1 1.3]\n [6.  2.5]\n [5.1 1.9]\n [5.9 2.1]\n [5.6 1.8]\n [5.8 2.2]\n [6.6 2.1]\n [4.5 1.7]\n [6.3 1.8]\n [5.8 1.8]\n [6.1 2.5]\n [5.1 2. ]\n [5.3 1.9]\n [5.5 2.1]\n [5.  2. ]\n [5.1 2.4]\n [5.3 2.3]\n [5.5 1.8]\n [6.7 2.2]\n [6.9 2.3]\n [5.  1.5]\n [5.7 2.3]\n [4.9 2. ]\n [6.7 2. ]\n [4.9 1.8]\n [5.7 2.1]\n [6.  1.8]\n [4.8 1.8]\n [4.9 1.8]\n [5.6 2.1]\n [5.8 1.6]\n [6.1 1.9]\n [6.4 2. ]\n [5.6 2.2]\n [5.1 1.5]\n [5.6 1.4]\n [6.1 2.3]\n [5.6 2.4]\n [5.5 1.8]\n [4.8 1.8]\n [5.4 2.1]\n [5.6 2.4]\n [5.1 2.3]\n [5.1 1.9]\n [5.9 2.3]\n [5.7 2.5]\n [5.2 2.3]\n [5.  1.9]\n [5.2 2. ]\n [5.4 2.3]\n [5.1 1.8]]\n[0. 0. 0. 0. 0. 0. 0. 0. 0. 0. 0. 0. 0. 0. 0. 0. 0. 0. 0. 0. 0. 0. 0. 0.\n 0. 0. 0. 0. 0. 0. 0. 0. 0. 0. 0. 0. 0. 0. 0. 0. 0. 0. 0. 0. 0. 0. 0. 0.\n 0. 0. 0. 0. 0. 0. 0. 0. 0. 0. 0. 0. 0. 0. 0. 0. 0. 0. 0. 0. 0. 0. 0. 0.\n 0. 0. 0. 0. 0. 0. 0. 0. 0. 0. 0. 0. 0. 0. 0. 0. 0. 0. 0. 0. 0. 0. 0. 0.\n 0. 0. 0. 0. 1. 1. 1. 1. 1. 1. 1. 1. 1. 1. 1. 1. 1. 1. 1. 1. 1. 1. 1. 1.\n 1. 1. 1. 1. 1. 1. 1. 1. 1. 1. 1. 1. 1. 1. 1. 1. 1. 1. 1. 1. 1. 1. 1. 1.\n 1. 1. 1. 1. 1. 1.]\n"
     ]
    }
   ],
   "source": [
    "print(X)\n",
    "print(y)\n"
   ]
  }
 ]
}